{
 "cells": [
  {
   "cell_type": "markdown",
   "metadata": {
    "cell_id": "00001-caefeb56-f9c5-4f9e-a096-b89246dc63d7",
    "deepnote_app_coordinates": {
     "h": 5,
     "w": 12,
     "x": 0,
     "y": 6
    },
    "deepnote_cell_type": "markdown",
    "id": "CGXgWugfJ0Vl"
   },
   "source": [
    "## Assignment 1\n",
    "\n",
    "**Submission deadlines:** \n",
    "- get at least **2** points by Tuesday, 11.03.2025\n",
    "- remaining points: last lab session before or on Tuesday, 18.03.2025\n",
    "\n",
    "**Points:** Aim to get 8 out of 14 possible points\n",
    "\n",
    "## Submission instructions\n",
    "The class is held on-site in lab rooms. Please prepare you notebook on your computer or anywhere in the cloud (try using DeepNote or Google Colab).\n",
    "\n",
    "Make sure you know all the questions and answers, and that the notebook contains results; before presentation do `Runtime -> Restart and run all`\n",
    "![Picture title](image-20220302-183151.png)\n",
    "\n",
    "We provide starter code, however you are not required to use it as long as you properly solve the tasks.\n"
   ]
  },
  {
   "cell_type": "markdown",
   "metadata": {
    "cell_id": "00002-c92cc86e-f65f-4e16-9124-9ca4d4265c88",
    "deepnote_app_coordinates": {
     "h": 5,
     "w": 12,
     "x": 0,
     "y": 12
    },
    "deepnote_cell_type": "markdown",
    "id": "5S8iRaCPyO2a"
   },
   "source": [
    "# Task description\n",
    "\n",
    "## TLDR\n",
    "Implement and train a neural network using pure `torch`."
   ]
  },
  {
   "cell_type": "markdown",
   "metadata": {
    "cell_id": "00003-1893a0a0-4515-4960-bce8-37f660543eea",
    "deepnote_app_coordinates": {
     "h": 5,
     "w": 12,
     "x": 0,
     "y": 18
    },
    "deepnote_cell_type": "markdown",
    "id": "JHcz7I2V-bVM"
   },
   "source": [
    "\n",
    "## Problem 1 [2p]\n",
    "Implement a two-layer network, manually set weights and biases to solve the XOR task.\n",
    "\n",
    "A two-layer neural network implementes a function $f: \\mathbb{R}^D \\rightarrow \\mathbb{R}^O$ where $D$ is the input dimensionality and $O$ is the output dinemsionality. The output goes through an intermediate representation (the hidden layer) with dimensionality $H$. \n",
    "\n",
    "The computations are as follows:\n",
    "$$\n",
    "\\begin{aligned}\n",
    "A_1 &= x W_1^T + b_1  & \\qquad\\text{Total input to neurons in the hidden layer (network's first layer)} \\\\\n",
    "O_1 &= \\sigma_1(A_1)  & \\qquad\\text{Output of the hidden layer} \\\\\n",
    "A_2 &= O_1 W_2^T + b_2 & \\qquad\\text{Total input to neurons in the output layer (network's second layer)}\\\\\n",
    "O_2 &= \\sigma_2(A_2)  & \\qquad\\text{Output of the network}\n",
    "\\end{aligned}\n",
    "$$\n",
    "\n",
    "Where $W$ are weight matrices, $b$ are bias vectors, $\\sigma$ are non-linear activation functions (e.g. the logistic sigmoid applied element-wise, or softmax).\n",
    "\n",
    "For the 2D xor problem the network will:\n",
    "- have 2 inputs, 2 hidden neurons, one output\n",
    "- use the logistic sigmoid everywhere (that way we, when hand-designig the weights, we can assume that neurons' outputs are binary).\n",
    "\n",
    "Therrefore the shapes of the data flowing through the network will be:\n",
    "- input: $x\\in\\mathbb{}R^{2}$\n",
    "- hidden layer parameters: $W_1\\in\\mathbb{}R^{2\\times 2}$ and $b_1\\in\\mathbb{}R^{2}$\n",
    "- representations in the hidden layer: $A_1\\in\\mathbb{}R^{2}$ and $O_1\\in\\mathbb{}R^{2}$\n",
    "- output layer parameters: $W_2\\in\\mathbb{}R^{1\\times 2}$ and $b_2\\in\\mathbb{}R^{1}$\n",
    "- representations in the output layer: $A_2\\in\\mathbb{}R^{1}$ and $O_2\\in\\mathbb{}R^{1}$\n",
    "\n",
    "The network can be seen as a logistic regression model, prefixed by a nonlinear transformation of the data.\n",
    "\n",
    "The first tasks consists of:\n",
    "- implementing the network\n",
    "- selecting parametwrs ($W_1, b_1, W_2, b_2$) such that $f(x)\\approx XOR(x_1, x_2)$ where the approximation is die to the sigmoids - the output may be close to 0 or 1, but doesn't need to saturate at 0 or 1.\n",
    "\n",
    "NB: the convention on weight matrix shapes follows linear [layers in PyTorch](https://pytorch.org/docs/stable/generated/torch.nn.Linear.html).\n"
   ]
  },
  {
   "cell_type": "markdown",
   "metadata": {
    "cell_id": "00004-0d502510-cfd1-44da-b88c-da6aaf275617",
    "deepnote_app_coordinates": {
     "h": 5,
     "w": 12,
     "x": 0,
     "y": 24
    },
    "deepnote_cell_type": "markdown",
    "id": "0QSpZxuH-bLe"
   },
   "source": [
    "## Problem 2 [2p]\n",
    "1. Add a backward pass.\n",
    "2. Use a sensible random initialization for weights and biases.\n",
    "3. Numerically check the correctness of your gradient computation.\n",
    "\n",
    "There is nice article about taking derivative over vectors and vector chain rule: https://explained.ai/matrix-calculus/ if someone don't have experience with such calculus.\n"
   ]
  },
  {
   "cell_type": "markdown",
   "metadata": {
    "cell_id": "00005-96083315-f850-4103-946e-cc9b11377543",
    "deepnote_app_coordinates": {
     "h": 5,
     "w": 12,
     "x": 0,
     "y": 30
    },
    "deepnote_cell_type": "markdown",
    "id": "s1Tn8j0m-bAy"
   },
   "source": [
    "## Problem 3 [2p]\n",
    "1. Implement gradient descent\n",
    "2. Train your network to solve 3D XOR\n",
    "3. Try several hidden layer sizes, for each size record the fracton of successful trainings. Then answer:\n",
    "    - What is the minimal hidden size required to solve 3D XOR (even with low reliability, when the training has to be repeated multiple times)\n",
    "    - What is the minimal hidden size required to reliably solve 3D XOR\n",
    "    - Which networks are easier to train - small or large ones? Why?\n"
   ]
  },
  {
   "cell_type": "markdown",
   "metadata": {
    "cell_id": "00006-94cc4eb9-0202-4308-9a9e-007db44a6a98",
    "deepnote_app_coordinates": {
     "h": 5,
     "w": 12,
     "x": 0,
     "y": 36
    },
    "deepnote_cell_type": "markdown",
    "id": "RP9Pvpmf-a2A"
   },
   "source": [
    "## Problem 4 [1p]\n",
    "Replace the first nonlinearity with the [ReLU](https://en.wikipedia.org/wiki/Rectifier_(neural_networks)) activation function. Find a network architecture which reliably learns the 3D XOR problem.\n"
   ]
  },
  {
   "cell_type": "markdown",
   "metadata": {
    "cell_id": "00007-9e6e984c-5131-4333-837b-7e57c4bfb650",
    "deepnote_app_coordinates": {
     "h": 5,
     "w": 12,
     "x": 0,
     "y": 42
    },
    "deepnote_cell_type": "markdown",
    "id": "cGgtpe-w-asB"
   },
   "source": [
    "## Problem 5 [1p]\n",
    "Add a second hidden layer to your network, implement the forward and backward pass, then demonstrate training.\n"
   ]
  },
  {
   "cell_type": "markdown",
   "metadata": {
    "cell_id": "00008-86ea4bdd-83dc-4197-baad-d216fbacc786",
    "deepnote_app_coordinates": {
     "h": 5,
     "w": 12,
     "x": 0,
     "y": 48
    },
    "deepnote_cell_type": "markdown",
    "id": "Pe-pcFeO-aiE"
   },
   "source": [
    "## Problem 6 [2p]\n",
    "Implement a way to have a _variable number_ of hidden layers. Check how deep sigmoid or ReLU networks you  can train. For simplicity you can assume that all hidden layers have the same number of neurons, and use the same activation function.\n"
   ]
  },
  {
   "cell_type": "markdown",
   "metadata": {},
   "source": [
    "## Problem 7 [2p]\n",
    "Consider the following function $\\boldsymbol f: \\mathbb R^n \\to \\mathbb R^k$:\n",
    "$$ \\hat{\\boldsymbol y} := \\boldsymbol f(\\boldsymbol x\\,;\\,\\,W, \\boldsymbol b) = \\mathrm{softmax}(\\boldsymbol z) \\qquad (\\boldsymbol x \\in \\mathbb R^{n}, \\, W \\in\\mathbb R^{k\\times n}, \\, \\boldsymbol b \\in \\mathbb R^k), $$\n",
    "where $$ \\boldsymbol z = W  \\boldsymbol x + \\boldsymbol b $$\n",
    "and $W, \\boldsymbol b$ are the parameters.\n",
    "\n",
    "Analytically derive the form of the following gradients:\n",
    "\n",
    "$$ \\frac{\\partial \\hat{\\boldsymbol y}}{\\boldsymbol z} = \\ldots $$\n",
    "\n",
    "$$ \\frac{\\partial \\hat{\\boldsymbol y}}{W_{ij}} = \\ldots $$\n",
    "\n",
    "$$ \\frac{\\partial \\hat{\\boldsymbol y}}{\\boldsymbol b} = \\ldots $$"
   ]
  },
  {
   "cell_type": "markdown",
   "metadata": {
    "cell_id": "00010-954fd65b-4d81-4bbc-bf6b-4d10d50be9b8",
    "deepnote_app_coordinates": {
     "h": 5,
     "w": 12,
     "x": 0,
     "y": 60
    },
    "deepnote_cell_type": "markdown",
    "id": "rXJaoHSH0DZO"
   },
   "source": [
    "# Solutions and starter code"
   ]
  },
  {
   "cell_type": "code",
   "execution_count": 11,
   "metadata": {
    "cell_id": "00011-97f2c7fe-a3d5-4a6b-bc12-8a96bfeed475",
    "deepnote_app_coordinates": {
     "h": 5,
     "w": 12,
     "x": 0,
     "y": 66
    },
    "deepnote_cell_type": "code",
    "id": "YiTEWD2oqW0Y",
    "ExecuteTime": {
     "end_time": "2025-03-18T15:45:13.118282500Z",
     "start_time": "2025-03-18T15:45:12.998855100Z"
    }
   },
   "outputs": [],
   "source": [
    "import matplotlib.pyplot as plt\n",
    "import torch"
   ]
  },
  {
   "cell_type": "markdown",
   "metadata": {
    "cell_id": "00012-8bc44e88-e665-483d-89fc-c866879ad335",
    "deepnote_app_coordinates": {
     "h": 5,
     "w": 12,
     "x": 0,
     "y": 72
    },
    "deepnote_cell_type": "markdown",
    "id": "eqtfJKR40J3x"
   },
   "source": [
    "XOR dataset creation"
   ]
  },
  {
   "cell_type": "code",
   "execution_count": 12,
   "metadata": {
    "ExecuteTime": {
     "end_time": "2025-03-18T15:45:13.299175300Z",
     "start_time": "2025-03-18T15:45:13.112098200Z"
    }
   },
   "outputs": [
    {
     "data": {
      "text/plain": "(np.float64(-0.05), np.float64(1.05), np.float64(-0.05), np.float64(1.05))"
     },
     "execution_count": 12,
     "metadata": {},
     "output_type": "execute_result"
    },
    {
     "data": {
      "text/plain": "<Figure size 640x480 with 1 Axes>",
      "image/png": "[encoded data removed]"
     },
     "metadata": {},
     "output_type": "display_data"
    }
   ],
   "source": [
    "\n",
    "X = torch.tensor([[0, 0], [0, 1], [1, 0], [1, 1],], dtype=torch.float64)\n",
    "Y = torch.tensor([[0], [1], [1], [0],], dtype=torch.float64)\n",
    "\n",
    "plt.scatter(\n",
    "    X[:, 0], X[:, 1], c=Y[:, 0],\n",
    ")\n",
    "plt.xlabel(\"X[0]\")\n",
    "plt.ylabel(\"X[1]\")\n",
    "plt.axis(\"square\")"
   ]
  },
  {
   "cell_type": "markdown",
   "metadata": {
    "cell_id": "00014-fe501b87-4247-497d-a7c7-f528483d31cc",
    "deepnote_app_coordinates": {
     "h": 5,
     "w": 12,
     "x": 0,
     "y": 84
    },
    "deepnote_cell_type": "markdown",
    "id": "Rb3azMn929_I"
   },
   "source": [
    "## Problem 1"
   ]
  },
  {
   "cell_type": "markdown",
   "metadata": {
    "cell_id": "00015-97a3483d-0ae6-4bee-afd5-6226abc622a5",
    "deepnote_app_coordinates": {
     "h": 5,
     "w": 12,
     "x": 0,
     "y": 90
    },
    "deepnote_cell_type": "markdown",
    "id": "RZCM_hdELE04"
   },
   "source": [
    "The code below contains a mock-up of a two-layer neural network. Fill in the code and manually set weights to solve the XOR problem.\n",
    "\n",
    "Please note: the shapes are set to be compatible with PyTorch's conventions:\n",
    "* a batch containing $N$ $D$-dimensional examples has shape $N\\times D$ (each example is a row!)\n",
    "* a weight matrix in a linear layer with $I$ inputs and $O$ outputs has shape $O \\times I$\n",
    "* a bias vector is a 1D vector. Please note that [broadcasting rules](https://docs.scipy.org/doc/numpy/user/basics.broadcasting.html) allow us to think about it as a $1 \\times D$ matrix."
   ]
  },
  {
   "cell_type": "code",
   "execution_count": 13,
   "metadata": {
    "cell_id": "00016-87dd53c6-4f21-4286-8a85-61c2a92fa819",
    "deepnote_app_coordinates": {
     "h": 5,
     "w": 12,
     "x": 0,
     "y": 96
    },
    "deepnote_cell_type": "code",
    "id": "lrrRuk6zLiF0",
    "ExecuteTime": {
     "end_time": "2025-03-18T15:45:13.303177600Z",
     "start_time": "2025-03-18T15:45:13.271613400Z"
    }
   },
   "outputs": [],
   "source": [
    "\n",
    "import torch\n",
    "\n",
    "def sigmoid(x):\n",
    "    return 1 / (1 + torch.exp(-x))\n",
    "\n",
    "def relu(x):\n",
    "    return torch.maximum(x, torch.tensor(0.0, device=x.device, dtype=x.dtype))\n",
    "\n",
    "class SmallNet:\n",
    "    def __init__(self, in_features: int, num_hidden: int, dtype=torch.float32):\n",
    "        self.alpha = 0.01\n",
    "        self.W1 = torch.zeros((num_hidden, in_features), dtype=dtype) \n",
    "        self.b1 = torch.zeros((num_hidden,), dtype=dtype) \n",
    "        self.W2 = torch.zeros((1, num_hidden), dtype=dtype)\n",
    "        self.b2 = torch.zeros((1,), dtype=dtype)\n",
    "        self.init_params()\n",
    "\n",
    "    def init_params(self):\n",
    "        # TODO for Problem 2:\n",
    "        # set all parameters to small random values, e.g. from N(0, 0.5)\n",
    "\n",
    "        self.W1 = torch.randn(self.W1.shape, dtype= self.W1.dtype) * torch.sqrt(torch.tensor(0.5))\n",
    "        self.b1 = torch.randn(self.b1.shape, dtype= self.W1.dtype) * torch.sqrt(torch.tensor(0.5))\n",
    "        self.W2 = torch.randn(self.W2.shape, dtype= self.W1.dtype) * torch.sqrt(torch.tensor(0.5))\n",
    "        self.b2 = torch.randn(self.b2.shape, dtype= self.W1.dtype) * torch.sqrt(torch.tensor(0.5))\n",
    "        \n",
    "    def forward(self, X, Y=None, do_backward=False, use_relu = False):\n",
    "        if use_relu:\n",
    "            activation = relu\n",
    "        else:\n",
    "            activation = sigmoid\n",
    "            \n",
    "        A1 = X @ self.W1.T + self.b1\n",
    "        O1 = activation(A1)\n",
    "        A2 = O1 @ self.W2.T + self.b2\n",
    "        O2 = sigmoid(A2)\n",
    "        \n",
    "        if Y is not None:\n",
    "            loss = - (Y * torch.log(O2) + (1 - Y) * torch.log(1 - O2))\n",
    "            loss = loss.sum() / X.shape[0]\n",
    "        else:\n",
    "            loss = torch.nan\n",
    "\n",
    "        if do_backward:\n",
    "            A2_grad = (O2 - Y) / X.shape[0]\n",
    "            self.b2_grad = A2_grad.sum(0)\n",
    "            self.W2_grad = A2_grad.T @ O1\n",
    "            O1_grad = A2_grad @ self.W2\n",
    "            \n",
    "            if use_relu:\n",
    "                A1_grad = O1_grad * (A1 > 0).float() \n",
    "            else:\n",
    "                A1_grad = O1_grad * O1 * (1 - O1) \n",
    "            \n",
    "            self.b1_grad = A1_grad.sum(0)\n",
    "            self.W1_grad = A1_grad.T @ X\n",
    "\n",
    "        return O2, loss\n",
    "    \n",
    "    def train(self, X, Y, steps=100000, use_relu = False):\n",
    "        for i in range(steps):\n",
    "            _, loss = self.forward(X, Y, do_backward=True, use_relu = use_relu)\n",
    "            if (i % (steps//20)) == 0:\n",
    "                print(f\"after {i} steps \\tloss={loss}\")\n",
    "            for param_name in [\"W1\", \"b1\", \"W2\", \"b2\"]:\n",
    "                param = getattr(self, param_name)\n",
    "                param[:] = param - self.alpha * getattr(self, param_name + \"_grad\")\n",
    "        \n",
    "    def predict(self, X, Y, use_relu=False):\n",
    "        predictions, loss = self.forward(X, Y, use_relu=use_relu)\n",
    "        for x, p in zip(X, predictions):\n",
    "            print(f\"XORnet({x}) = {p[0]}\")\n",
    "        return predictions, loss\n",
    "\n"
   ]
  },
  {
   "cell_type": "code",
   "execution_count": 14,
   "metadata": {
    "cell_id": "00017-32ce9293-0a37-4397-aeac-25eef428e8d4",
    "colab": {
     "base_uri": "https://localhost:8080/"
    },
    "deepnote_app_coordinates": {
     "h": 5,
     "w": 12,
     "x": 0,
     "y": 102
    },
    "deepnote_cell_type": "code",
    "id": "jJswvBk0oiIY",
    "outputId": "e6559317-7afa-4509-fbac-4880e73b91cc",
    "ExecuteTime": {
     "end_time": "2025-03-18T15:45:13.404591400Z",
     "start_time": "2025-03-18T15:45:13.293175Z"
    }
   },
   "outputs": [],
   "source": [
    "\n",
    "def PROBLEM_1():\n",
    "    net = SmallNet(2, 2, dtype=torch.float64)\n",
    "    net.W1 = torch.tensor([[6, 6], [-5, -5]], dtype=torch.float64) * 10\n",
    "    net.b1 = torch.tensor([-2.5, 7.5], dtype=torch.float64) * 10\n",
    "    net.W2 = torch.tensor([[10, 10]], dtype=torch.float64) * 10\n",
    "    net.b2 = torch.tensor([-15], dtype=torch.float64) * 10\n",
    "    net.predict(X, Y)\n",
    "\n",
    "# PROBLEM_1()\n"
   ]
  },
  {
   "cell_type": "markdown",
   "metadata": {
    "cell_id": "00018-9f8740d2-90e7-4d20-a535-002df8547aba",
    "deepnote_app_coordinates": {
     "h": 5,
     "w": 12,
     "x": 0,
     "y": 108
    },
    "deepnote_cell_type": "markdown",
    "id": "wmxCi5Vl6_xB"
   },
   "source": [
    "## Problem 2"
   ]
  },
  {
   "cell_type": "code",
   "execution_count": 15,
   "metadata": {
    "cell_id": "00019-8f804996-a00a-4bb5-a524-ad056659e023",
    "deepnote_app_coordinates": {
     "h": 5,
     "w": 12,
     "x": 0,
     "y": 114
    },
    "deepnote_cell_type": "code",
    "id": "eSM5hgJ1mrhY",
    "ExecuteTime": {
     "end_time": "2025-03-18T15:45:13.421787400Z",
     "start_time": "2025-03-18T15:45:13.308175800Z"
    }
   },
   "outputs": [],
   "source": [
    "def check_grad(net, param_name, X, Y, eps= 1e-5):\n",
    "    \"\"\"A gradient checking routine\"\"\"\n",
    "\n",
    "    param = getattr(net, param_name)\n",
    "    param_flat_accessor = param.reshape(-1)\n",
    "\n",
    "    grad = torch.empty_like(param)\n",
    "    grad_flat_accessor = grad.reshape(-1)\n",
    "\n",
    "    net.forward(X, Y, do_backward=True)\n",
    "    orig_grad = getattr(net, param_name + \"_grad\")\n",
    "    assert param.shape == orig_grad.shape\n",
    "\n",
    "    for i in range(param_flat_accessor.shape[0]):\n",
    "        orig_val = param_flat_accessor[i].item()\n",
    "        param_flat_accessor[i] = orig_val + eps\n",
    "        _, loss_positive = net.forward(X, Y)\n",
    "        param_flat_accessor[i] = orig_val - eps\n",
    "        _, loss_negative = net.forward(X, Y)\n",
    "        param_flat_accessor[i] = orig_val\n",
    "        grad_flat_accessor[i] = (loss_positive - loss_negative) / (2 * eps)\n",
    "    assert torch.allclose(grad, orig_grad)\n",
    "    return grad, orig_grad\n"
   ]
  },
  {
   "cell_type": "code",
   "execution_count": 16,
   "metadata": {
    "cell_id": "00020-1c4174cf-f129-4cad-adad-4734810a8ce1",
    "deepnote_app_coordinates": {
     "h": 5,
     "w": 12,
     "x": 0,
     "y": 120
    },
    "deepnote_cell_type": "code",
    "id": "TTZu0jFEvgXF",
    "ExecuteTime": {
     "end_time": "2025-03-18T15:45:13.422784200Z",
     "start_time": "2025-03-18T15:45:13.323175Z"
    }
   },
   "outputs": [],
   "source": [
    "def PROBLEM_2():\n",
    "    net = SmallNet(2, 2, dtype=torch.float64)\n",
    "    for param_name in [\"W1\", \"b1\", \"W2\", \"b2\"]:\n",
    "        check_grad(net, param_name, X, Y)\n",
    "        \n",
    "# PROBLEM_2()"
   ]
  },
  {
   "cell_type": "markdown",
   "metadata": {
    "cell_id": "00021-145837f8-c83f-4aab-8e62-0114e59f30fe",
    "deepnote_app_coordinates": {
     "h": 5,
     "w": 12,
     "x": 0,
     "y": 126
    },
    "deepnote_cell_type": "markdown",
    "id": "8mUOs3cVvjM2"
   },
   "source": [
    "## Problem 3"
   ]
  },
  {
   "cell_type": "code",
   "execution_count": 17,
   "metadata": {
    "cell_id": "00022-91b3eba0-6025-4839-847c-f5cb275fad07",
    "colab": {
     "base_uri": "https://localhost:8080/"
    },
    "deepnote_app_coordinates": {
     "h": 5,
     "w": 12,
     "x": 0,
     "y": 132
    },
    "deepnote_cell_type": "code",
    "id": "nn2AAoZo0vjU",
    "outputId": "7b6b5a9a-dea5-4357-e8c1-36a34c7c272a",
    "ExecuteTime": {
     "end_time": "2025-03-18T15:45:35.723581600Z",
     "start_time": "2025-03-18T15:45:13.338251900Z"
    }
   },
   "outputs": [
    {
     "name": "stdout",
     "output_type": "stream",
     "text": [
      "after 0 steps \tloss=0.6934399562231859\n",
      "after 5000 steps \tloss=0.6668986140539641\n",
      "after 10000 steps \tloss=0.6064930288070156\n",
      "after 15000 steps \tloss=0.4684461593592498\n",
      "after 20000 steps \tloss=0.2871204071631336\n",
      "after 25000 steps \tloss=0.15939022045077308\n",
      "after 30000 steps \tloss=0.09491823787836852\n",
      "after 35000 steps \tloss=0.06266168684445222\n",
      "after 40000 steps \tloss=0.044958214368815176\n",
      "after 45000 steps \tloss=0.03427791102117445\n",
      "after 50000 steps \tloss=0.027318921286349565\n",
      "after 55000 steps \tloss=0.022503885634954094\n",
      "after 60000 steps \tloss=0.019012033618729763\n",
      "after 65000 steps \tloss=0.016383603914706668\n",
      "after 70000 steps \tloss=0.014344722400780321\n",
      "after 75000 steps \tloss=0.012723690435409187\n",
      "after 80000 steps \tloss=0.011408165492490236\n",
      "after 85000 steps \tloss=0.010321942159875067\n",
      "after 90000 steps \tloss=0.009411714294627931\n",
      "after 95000 steps \tloss=0.00863919458073241\n",
      "after 100000 steps \tloss=0.007976244343074835\n",
      "XORnet(tensor([0., 0.], dtype=torch.float64)) = 0.005551516560794374\n",
      "XORnet(tensor([0., 1.], dtype=torch.float64)) = 0.9923745336905903\n",
      "XORnet(tensor([1., 0.], dtype=torch.float64)) = 0.9914721662298909\n",
      "XORnet(tensor([1., 1.], dtype=torch.float64)) = 0.010067389837817266\n"
     ]
    }
   ],
   "source": [
    "def PROBLEM_3_A():\n",
    "    net = SmallNet(2, 10, dtype=torch.float64)\n",
    "    net.train(X, Y, steps=100001)\n",
    "    net.predict(X,Y)\n",
    "    \n",
    "PROBLEM_3_A()"
   ]
  },
  {
   "cell_type": "code",
   "execution_count": 17,
   "metadata": {
    "cell_id": "00023-c92941a8-24d1-46e8-a410-d189c1d87b08",
    "colab": {
     "base_uri": "https://localhost:8080/"
    },
    "deepnote_app_coordinates": {
     "h": 5,
     "w": 12,
     "x": 0,
     "y": 138
    },
    "deepnote_cell_type": "code",
    "id": "TwpEjpkU1JvK",
    "outputId": "dc044de9-81c1-4944-d9a2-5dcc72bf9a57",
    "ExecuteTime": {
     "end_time": "2025-03-18T15:45:35.735657400Z",
     "start_time": "2025-03-18T15:45:35.721357400Z"
    }
   },
   "outputs": [],
   "source": []
  },
  {
   "cell_type": "code",
   "execution_count": 18,
   "metadata": {
    "cell_id": "00024-e09655a3-84e1-4a43-9b61-00edb56c6054",
    "deepnote_app_coordinates": {
     "h": 5,
     "w": 12,
     "x": 0,
     "y": 144
    },
    "deepnote_cell_type": "code",
    "id": "U0ZMyHqz8xrC",
    "ExecuteTime": {
     "end_time": "2025-03-18T15:45:35.750095400Z",
     "start_time": "2025-03-18T15:45:35.735657400Z"
    }
   },
   "outputs": [],
   "source": [
    "def PROBLEM_3():\n",
    "    X3 = [[0, 0, 0], [0, 0, 1], [0, 1, 0], [0, 1, 1], [1, 0, 0], [1, 0, 1], [1, 1, 0], [1, 1, 1]]\n",
    "    Y3 = [[0], [1], [1], [0], [1], [0], [0], [1]]\n",
    "    \n",
    "    X = torch.tensor(X3, dtype=torch.float64)\n",
    "    Y = torch.tensor(Y3, dtype=torch.float64)\n",
    "    success_ctr = 0\n",
    "    for hidden_dim in [2, 3, 5, 10, 20]:\n",
    "        net = SmallNet(3, hidden_dim, dtype=torch.float64)\n",
    "        net.train(X, Y, steps=100001)\n",
    "        print(\"Hidden size: \", hidden_dim)\n",
    "        predictions, loss = net.predict(X,Y)\n",
    "        if torch.all(abs(predictions - Y) < 1e-1):\n",
    "            print(\"Success\")\n",
    "            success_ctr += 1\n",
    "    print(\"Success rate: \", success_ctr / 5)\n",
    "    \n",
    "# PROBLEM_3()"
   ]
  },
  {
   "cell_type": "markdown",
   "metadata": {
    "cell_id": "00025-9703bd09-6aae-4830-8221-09b53a623e4b",
    "deepnote_app_coordinates": {
     "h": 5,
     "w": 12,
     "x": 0,
     "y": 150
    },
    "deepnote_cell_type": "markdown",
    "id": "UuaLEoV-9DLG"
   },
   "source": [
    "## Problem 4\n"
   ]
  },
  {
   "cell_type": "code",
   "execution_count": 19,
   "metadata": {
    "cell_id": "00026-1a2be430-91e0-4209-ab3f-9ef84c39513b",
    "deepnote_app_coordinates": {
     "h": 5,
     "w": 12,
     "x": 0,
     "y": 156
    },
    "deepnote_cell_type": "code",
    "id": "w3lk9_TM-MvK",
    "ExecuteTime": {
     "end_time": "2025-03-18T15:45:35.783414600Z",
     "start_time": "2025-03-18T15:45:35.752703800Z"
    }
   },
   "outputs": [],
   "source": [
    "\n",
    "def PROBLEM_4():\n",
    "    X = torch.tensor([[0, 0, 0], [0, 0, 1], [0, 1, 0], [0, 1, 1], [1, 0, 0], [1, 0, 1], [1, 1, 0], [1, 1, 1]], dtype=torch.float64)\n",
    "    Y = torch.tensor([[0], [1], [1], [0], [1], [0], [0], [1]], dtype=torch.float64)\n",
    "    net2 = SmallNet(3, 18, dtype=torch.float64)\n",
    "    net2.train(X, Y, steps=100001, use_relu = True)\n",
    "    net2.predict(X,Y, use_relu = True)\n",
    "# \n",
    "# PROBLEM_4()"
   ]
  },
  {
   "cell_type": "markdown",
   "metadata": {
    "cell_id": "00027-de8a387d-3b6a-48d5-b6c8-fddf13637e38",
    "deepnote_app_coordinates": {
     "h": 5,
     "w": 12,
     "x": 0,
     "y": 162
    },
    "deepnote_cell_type": "markdown",
    "id": "_Hr_iAKX-ND1"
   },
   "source": [
    "## Problem 5"
   ]
  },
  {
   "cell_type": "code",
   "execution_count": 20,
   "metadata": {
    "cell_id": "00028-0aa6ea62-907d-44bf-9ba4-71870d3dd547",
    "deepnote_app_coordinates": {
     "h": 5,
     "w": 12,
     "x": 0,
     "y": 168
    },
    "deepnote_cell_type": "code",
    "id": "rnz6CndQ-NRI",
    "ExecuteTime": {
     "end_time": "2025-03-18T15:47:03.434418600Z",
     "start_time": "2025-03-18T15:45:35.799324600Z"
    }
   },
   "outputs": [
    {
     "name": "stdout",
     "output_type": "stream",
     "text": [
      "after 0 steps \tloss=0.7409109083871886\n",
      "after 5000 steps \tloss=0.00032406082668115445\n",
      "after 10000 steps \tloss=0.0001237402134741554\n",
      "after 15000 steps \tloss=7.226012406655623e-05\n",
      "after 20000 steps \tloss=4.9776227907050456e-05\n",
      "after 25000 steps \tloss=3.750610137443297e-05\n",
      "after 30000 steps \tloss=2.98394001490931e-05\n",
      "after 35000 steps \tloss=2.4629416845239093e-05\n",
      "after 40000 steps \tloss=2.0877979413371867e-05\n",
      "after 45000 steps \tloss=1.806000791825961e-05\n",
      "after 50000 steps \tloss=1.5872479755834983e-05\n",
      "after 55000 steps \tloss=1.4129182989889063e-05\n",
      "after 60000 steps \tloss=1.2709986550318824e-05\n",
      "after 65000 steps \tloss=1.1534167551798684e-05\n",
      "after 70000 steps \tloss=1.0545294051283755e-05\n",
      "after 75000 steps \tloss=9.703140715893675e-06\n",
      "after 80000 steps \tloss=8.977800280594305e-06\n",
      "after 85000 steps \tloss=8.347270414915428e-06\n",
      "after 90000 steps \tloss=7.794411855535914e-06\n",
      "after 95000 steps \tloss=7.306090662430921e-06\n",
      "after 100000 steps \tloss=6.871770140607551e-06\n",
      "XORnet(tensor([0., 0., 0.], dtype=torch.float64)) = 2.4201993549572354e-05\n",
      "XORnet(tensor([0., 0., 1.], dtype=torch.float64)) = 0.9999968420344595\n",
      "XORnet(tensor([0., 1., 0.], dtype=torch.float64)) = 0.9999929900100072\n",
      "XORnet(tensor([0., 1., 1.], dtype=torch.float64)) = 1.670420961629669e-06\n",
      "XORnet(tensor([1., 0., 0.], dtype=torch.float64)) = 0.999996936949374\n",
      "XORnet(tensor([1., 0., 1.], dtype=torch.float64)) = 5.738369028626189e-06\n",
      "XORnet(tensor([1., 1., 0.], dtype=torch.float64)) = 3.4234377379114253e-06\n",
      "XORnet(tensor([1., 1., 1.], dtype=torch.float64)) = 0.9999932917067277\n",
      "Training network with 2 hidden layers\n",
      "after 0 steps \tloss=0.7203679489965684\n",
      "after 5000 steps \tloss=0.6924376389810837\n",
      "after 10000 steps \tloss=0.04655185116214755\n",
      "after 15000 steps \tloss=0.00314455582971089\n",
      "after 20000 steps \tloss=0.0014811580682025061\n",
      "after 25000 steps \tloss=0.0009473219788182144\n",
      "after 30000 steps \tloss=0.0006893525665188896\n",
      "after 35000 steps \tloss=0.0005387376776454943\n",
      "after 40000 steps \tloss=0.0004405396911937044\n",
      "after 45000 steps \tloss=0.0003716941475333153\n",
      "after 50000 steps \tloss=0.000320876983930277\n",
      "after 55000 steps \tloss=0.00028189733673723627\n",
      "after 60000 steps \tloss=0.0002510933243988862\n",
      "after 65000 steps \tloss=0.00022616425685731187\n",
      "after 70000 steps \tloss=0.00020559394269319313\n",
      "after 75000 steps \tloss=0.00018834367419343708\n",
      "after 80000 steps \tloss=0.00017367861562906446\n",
      "after 85000 steps \tloss=0.00016106463735061842\n",
      "after 90000 steps \tloss=0.000150104411848268\n",
      "after 95000 steps \tloss=0.0001404964073366708\n",
      "after 100000 steps \tloss=0.00013200776218652972\n",
      "XORnet(tensor([0., 0., 0.], dtype=torch.float64)) = 8.552060292965855e-05\n",
      "XORnet(tensor([0., 0., 1.], dtype=torch.float64)) = 0.9998268885050758\n",
      "XORnet(tensor([0., 1., 0.], dtype=torch.float64)) = 0.9998797050652822\n",
      "XORnet(tensor([0., 1., 1.], dtype=torch.float64)) = 0.00014387375932689532\n",
      "XORnet(tensor([1., 0., 0.], dtype=torch.float64)) = 0.9998423380373739\n",
      "XORnet(tensor([1., 0., 1.], dtype=torch.float64)) = 0.0001327231961355731\n",
      "XORnet(tensor([1., 1., 0.], dtype=torch.float64)) = 0.0001708913876301739\n",
      "XORnet(tensor([1., 1., 1.], dtype=torch.float64)) = 0.9999281026861941\n",
      "Training network with 3 hidden layers\n",
      "after 0 steps \tloss=0.697040943848368\n",
      "after 5000 steps \tloss=0.693156191483938\n",
      "after 10000 steps \tloss=0.6931524942020388\n",
      "after 15000 steps \tloss=0.6931494522281173\n",
      "after 20000 steps \tloss=0.693146674161581\n",
      "after 25000 steps \tloss=0.6931438464962512\n",
      "after 30000 steps \tloss=0.6931406522161514\n",
      "after 35000 steps \tloss=0.69313668920414\n",
      "after 40000 steps \tloss=0.6931313461499998\n",
      "after 45000 steps \tloss=0.6931235569013519\n",
      "after 50000 steps \tloss=0.6931112271265415\n",
      "after 55000 steps \tloss=0.6930896825507982\n",
      "after 60000 steps \tloss=0.6930466230676825\n",
      "after 65000 steps \tloss=0.6929404088126672\n",
      "after 70000 steps \tloss=0.6925371556409818\n",
      "after 75000 steps \tloss=0.6823577259308417\n",
      "after 80000 steps \tloss=0.0040141077944966935\n",
      "after 85000 steps \tloss=0.0012770602640761561\n",
      "after 90000 steps \tloss=0.0007471049473918828\n",
      "after 95000 steps \tloss=0.0005255958094949663\n",
      "after 100000 steps \tloss=0.0004045796062703856\n",
      "XORnet(tensor([0., 0., 0.], dtype=torch.float64)) = 0.0003848425720946508\n",
      "XORnet(tensor([0., 0., 1.], dtype=torch.float64)) = 0.9995566952531951\n",
      "XORnet(tensor([0., 1., 0.], dtype=torch.float64)) = 0.9993938358788919\n",
      "XORnet(tensor([0., 1., 1.], dtype=torch.float64)) = 0.00025446730798007794\n",
      "XORnet(tensor([1., 0., 0.], dtype=torch.float64)) = 0.9995885287316125\n",
      "XORnet(tensor([1., 0., 1.], dtype=torch.float64)) = 0.0004705545707034208\n",
      "XORnet(tensor([1., 1., 0.], dtype=torch.float64)) = 0.00027969001399154184\n",
      "XORnet(tensor([1., 1., 1.], dtype=torch.float64)) = 0.9996147046012027\n",
      "Training network with 5 hidden layers\n",
      "after 0 steps \tloss=0.69721010086507\n",
      "after 5000 steps \tloss=0.6931469915739896\n"
     ]
    },
    {
     "ename": "KeyboardInterrupt",
     "evalue": "",
     "output_type": "error",
     "traceback": [
      "\u001B[1;31m---------------------------------------------------------------------------\u001B[0m",
      "\u001B[1;31mKeyboardInterrupt\u001B[0m                         Traceback (most recent call last)",
      "Cell \u001B[1;32mIn[20], line 112\u001B[0m\n\u001B[0;32m    109\u001B[0m         net\u001B[38;5;241m.\u001B[39mpredict(X, Y)\n\u001B[0;32m    111\u001B[0m PROBLEM_5()\n\u001B[1;32m--> 112\u001B[0m \u001B[43mPROBLEM_6\u001B[49m\u001B[43m(\u001B[49m\u001B[43m)\u001B[49m\n",
      "Cell \u001B[1;32mIn[20], line 108\u001B[0m, in \u001B[0;36mPROBLEM_6\u001B[1;34m()\u001B[0m\n\u001B[0;32m    106\u001B[0m \u001B[38;5;28mprint\u001B[39m(\u001B[38;5;124mf\u001B[39m\u001B[38;5;124m\"\u001B[39m\u001B[38;5;124mTraining network with \u001B[39m\u001B[38;5;132;01m{\u001B[39;00mnum_layers\u001B[38;5;132;01m}\u001B[39;00m\u001B[38;5;124m hidden layers\u001B[39m\u001B[38;5;124m\"\u001B[39m)\n\u001B[0;32m    107\u001B[0m net \u001B[38;5;241m=\u001B[39m SmallNet2(\u001B[38;5;241m3\u001B[39m, \u001B[38;5;241m4\u001B[39m, num_layers, dtype\u001B[38;5;241m=\u001B[39mtorch\u001B[38;5;241m.\u001B[39mfloat64)\n\u001B[1;32m--> 108\u001B[0m \u001B[43mnet\u001B[49m\u001B[38;5;241;43m.\u001B[39;49m\u001B[43mtrain\u001B[49m\u001B[43m(\u001B[49m\u001B[43mX\u001B[49m\u001B[43m,\u001B[49m\u001B[43m \u001B[49m\u001B[43mY\u001B[49m\u001B[43m,\u001B[49m\u001B[43m \u001B[49m\u001B[43msteps\u001B[49m\u001B[38;5;241;43m=\u001B[39;49m\u001B[38;5;241;43m100001\u001B[39;49m\u001B[43m)\u001B[49m\n\u001B[0;32m    109\u001B[0m net\u001B[38;5;241m.\u001B[39mpredict(X, Y)\n",
      "Cell \u001B[1;32mIn[20], line 76\u001B[0m, in \u001B[0;36mSmallNet2.train\u001B[1;34m(self, X, Y, steps, use_relu)\u001B[0m\n\u001B[0;32m     74\u001B[0m \u001B[38;5;28;01mdef\u001B[39;00m\u001B[38;5;250m \u001B[39m\u001B[38;5;21mtrain\u001B[39m(\u001B[38;5;28mself\u001B[39m, X, Y, steps\u001B[38;5;241m=\u001B[39m\u001B[38;5;241m100000\u001B[39m, use_relu\u001B[38;5;241m=\u001B[39m\u001B[38;5;28;01mFalse\u001B[39;00m):\n\u001B[0;32m     75\u001B[0m     \u001B[38;5;28;01mfor\u001B[39;00m i \u001B[38;5;129;01min\u001B[39;00m \u001B[38;5;28mrange\u001B[39m(steps):\n\u001B[1;32m---> 76\u001B[0m         _, loss \u001B[38;5;241m=\u001B[39m \u001B[38;5;28;43mself\u001B[39;49m\u001B[38;5;241;43m.\u001B[39;49m\u001B[43mforward\u001B[49m\u001B[43m(\u001B[49m\u001B[43mX\u001B[49m\u001B[43m,\u001B[49m\u001B[43m \u001B[49m\u001B[43mY\u001B[49m\u001B[43m,\u001B[49m\u001B[43m \u001B[49m\u001B[43mdo_backward\u001B[49m\u001B[38;5;241;43m=\u001B[39;49m\u001B[38;5;28;43;01mTrue\u001B[39;49;00m\u001B[43m,\u001B[49m\u001B[43m \u001B[49m\u001B[43muse_relu\u001B[49m\u001B[38;5;241;43m=\u001B[39;49m\u001B[43muse_relu\u001B[49m\u001B[43m)\u001B[49m\n\u001B[0;32m     77\u001B[0m         \u001B[38;5;28;01mif\u001B[39;00m (i \u001B[38;5;241m%\u001B[39m (steps \u001B[38;5;241m/\u001B[39m\u001B[38;5;241m/\u001B[39m \u001B[38;5;241m20\u001B[39m)) \u001B[38;5;241m==\u001B[39m \u001B[38;5;241m0\u001B[39m:\n\u001B[0;32m     78\u001B[0m             \u001B[38;5;28mprint\u001B[39m(\u001B[38;5;124mf\u001B[39m\u001B[38;5;124m\"\u001B[39m\u001B[38;5;124mafter \u001B[39m\u001B[38;5;132;01m{\u001B[39;00mi\u001B[38;5;132;01m}\u001B[39;00m\u001B[38;5;124m steps \u001B[39m\u001B[38;5;130;01m\\t\u001B[39;00m\u001B[38;5;124mloss=\u001B[39m\u001B[38;5;132;01m{\u001B[39;00mloss\u001B[38;5;241m.\u001B[39mitem()\u001B[38;5;132;01m}\u001B[39;00m\u001B[38;5;124m\"\u001B[39m)\n",
      "Cell \u001B[1;32mIn[20], line 67\u001B[0m, in \u001B[0;36mSmallNet2.forward\u001B[1;34m(self, X, Y, do_backward, use_relu)\u001B[0m\n\u001B[0;32m     64\u001B[0m \u001B[38;5;28;01melse\u001B[39;00m:\n\u001B[0;32m     65\u001B[0m     A_grad \u001B[38;5;241m=\u001B[39m O_grad \u001B[38;5;241m*\u001B[39m activations[i] \u001B[38;5;241m*\u001B[39m (\u001B[38;5;241m1\u001B[39m \u001B[38;5;241m-\u001B[39m activations[i])\n\u001B[1;32m---> 67\u001B[0m \u001B[38;5;28mself\u001B[39m\u001B[38;5;241m.\u001B[39mW_grads[i] \u001B[38;5;241m=\u001B[39m A_grad\u001B[38;5;241m.\u001B[39mT \u001B[38;5;241m@\u001B[39m X \u001B[38;5;28;01mif\u001B[39;00m i \u001B[38;5;241m==\u001B[39m \u001B[38;5;241m0\u001B[39m \u001B[38;5;28;01melse\u001B[39;00m \u001B[43mA_grad\u001B[49m\u001B[38;5;241;43m.\u001B[39;49m\u001B[43mT\u001B[49m\u001B[43m \u001B[49m\u001B[38;5;241;43m@\u001B[39;49m\u001B[43m \u001B[49m\u001B[43mactivations\u001B[49m\u001B[43m[\u001B[49m\u001B[43mi\u001B[49m\u001B[38;5;241;43m-\u001B[39;49m\u001B[38;5;241;43m1\u001B[39;49m\u001B[43m]\u001B[49m  \n\u001B[0;32m     68\u001B[0m \u001B[38;5;28mself\u001B[39m\u001B[38;5;241m.\u001B[39mb_grads[i] \u001B[38;5;241m=\u001B[39m A_grad\u001B[38;5;241m.\u001B[39msum(\u001B[38;5;241m0\u001B[39m) \n\u001B[0;32m     70\u001B[0m O_grad \u001B[38;5;241m=\u001B[39m A_grad \u001B[38;5;241m@\u001B[39m \u001B[38;5;28mself\u001B[39m\u001B[38;5;241m.\u001B[39mW[i]  \n",
      "\u001B[1;31mKeyboardInterrupt\u001B[0m: "
     ]
    }
   ],
   "source": [
    "\n",
    "\n",
    "class SmallNet2:\n",
    "    def __init__(self, in_features: int, num_hidden: int, num_layers: int, dtype=torch.float32):\n",
    "        self.alpha = 0.15\n",
    "        self.num_layers = num_layers\n",
    "        \n",
    "        self.W = []  \n",
    "        self.b = []  \n",
    "        self.W_grads = [] \n",
    "        self.b_grads = []  \n",
    "        \n",
    "        prev_features = in_features\n",
    "        for _ in range(num_layers):\n",
    "            self.W.append(torch.randn(num_hidden, prev_features, dtype=dtype) * torch.sqrt(torch.tensor(0.5)))\n",
    "            self.b.append(torch.zeros(num_hidden, dtype=dtype))\n",
    "            self.W_grads.append(torch.zeros_like(self.W[-1]))\n",
    "            self.b_grads.append(torch.zeros_like(self.b[-1]))\n",
    "            prev_features = num_hidden\n",
    "        \n",
    "        # Output\n",
    "        self.W2 = torch.randn(1, prev_features, dtype=dtype) * torch.sqrt(torch.tensor(0.5))\n",
    "        self.b2 = torch.zeros(1, dtype=dtype)\n",
    "        self.W2_grad = torch.zeros_like(self.W2)\n",
    "        self.b2_grad = torch.zeros_like(self.b2)\n",
    "\n",
    "    def init_params(self):\n",
    "        for i in range(self.num_layers):\n",
    "            self.W[i] = torch.randn(self.W[i].shape, dtype=self.W[i].dtype) * torch.sqrt(torch.tensor(0.5))\n",
    "            self.b[i] = torch.randn(self.b[i].shape, dtype=self.b[i].dtype) * torch.sqrt(torch.tensor(0.5))\n",
    "        self.W2 = torch.randn(self.W2.shape, dtype=self.W2.dtype) * torch.sqrt(torch.tensor(0.5))\n",
    "        self.b2 = torch.randn(self.b2.shape, dtype=self.W2.dtype) * torch.sqrt(torch.tensor(0.5))\n",
    "\n",
    "    def forward(self, X, Y=None, do_backward=False, use_relu=False):\n",
    "        activation = relu if use_relu else sigmoid\n",
    "        activations = []\n",
    "        pre_activations = []  \n",
    "        A = X\n",
    "\n",
    "        for i in range(self.num_layers):\n",
    "            Z = A @ self.W[i].T + self.b[i]\n",
    "            A = activation(Z)\n",
    "            activations.append(A)\n",
    "            pre_activations.append(Z)\n",
    "        \n",
    "        A2 = A @ self.W2.T + self.b2\n",
    "        O2 = sigmoid(A2)\n",
    "\n",
    "        loss = torch.nan\n",
    "        if Y is not None:\n",
    "            loss = - (Y * torch.log(O2) + (1 - Y) * torch.log(1 - O2))\n",
    "            loss = loss.sum() / X.shape[0]\n",
    "\n",
    "        if do_backward:\n",
    "\n",
    "            A2_grad = (O2 - Y) / X.shape[0] \n",
    "            self.W2_grad = A2_grad.T @ activations[-1]\n",
    "            self.b2_grad = A2_grad.sum(0)  \n",
    "            \n",
    "            O_grad = A2_grad @ self.W2  \n",
    "            \n",
    "            for i in range(self.num_layers - 1, -1, -1):\n",
    "    \n",
    "                if use_relu:\n",
    "                    A_grad = O_grad * (pre_activations[i] > 0).float() \n",
    "                else:\n",
    "                    A_grad = O_grad * activations[i] * (1 - activations[i])\n",
    "\n",
    "                self.W_grads[i] = A_grad.T @ X if i == 0 else A_grad.T @ activations[i-1]  \n",
    "                self.b_grads[i] = A_grad.sum(0) \n",
    "\n",
    "                O_grad = A_grad @ self.W[i]  \n",
    "\n",
    "        return O2, loss\n",
    "\n",
    "    def train(self, X, Y, steps=100000, use_relu=False):\n",
    "        for i in range(steps):\n",
    "            _, loss = self.forward(X, Y, do_backward=True, use_relu=use_relu)\n",
    "            if (i % (steps // 20)) == 0:\n",
    "                print(f\"after {i} steps \\tloss={loss.item()}\")\n",
    "\n",
    "            for i in range(self.num_layers):\n",
    "                self.W[i] -= self.alpha * self.W_grads[i]\n",
    "                self.b[i] -= self.alpha * self.b_grads[i]\n",
    "            \n",
    "            self.W2 -= self.alpha * self.W2_grad\n",
    "            self.b2 -= self.alpha * self.b2_grad\n",
    "\n",
    "    def predict(self, X, Y, use_relu=False):\n",
    "        predictions, loss = self.forward(X, Y, use_relu=use_relu)\n",
    "        for x, p in zip(X, predictions):\n",
    "            print(f\"XORnet({x}) = {p[0]}\")\n",
    "        return predictions, loss\n",
    "\n",
    "def PROBLEM_5():\n",
    "    X = torch.tensor([[0, 0, 0], [0, 0, 1], [0, 1, 0], [0, 1, 1], \n",
    "                      [1, 0, 0], [1, 0, 1], [1, 1, 0], [1, 1, 1]], dtype=torch.float64)\n",
    "    Y = torch.tensor([[0], [1], [1], [0], [1], [0], [0], [1]], dtype=torch.float64)\n",
    "    net = SmallNet2(3, 5, 2, dtype=torch.float64) \n",
    "    net.train(X, Y, steps=100001, use_relu=True)\n",
    "    net.predict(X, Y, use_relu=True)\n",
    "\n",
    "def PROBLEM_6():\n",
    "    X = torch.tensor([[0, 0, 0], [0, 0, 1], [0, 1, 0], [0, 1, 1], \n",
    "                      [1, 0, 0], [1, 0, 1], [1, 1, 0], [1, 1, 1]], dtype=torch.float64)\n",
    "    Y = torch.tensor([[0], [1], [1], [0], [1], [0], [0], [1]], dtype=torch.float64)\n",
    "    for num_layers in [2, 3, 5, 10]: \n",
    "        print(f\"Training network with {num_layers} hidden layers\")\n",
    "        net = SmallNet2(3, 4, num_layers, dtype=torch.float64)\n",
    "        net.train(X, Y, steps=100001)\n",
    "        net.predict(X, Y)\n",
    "\n",
    "PROBLEM_5()\n",
    "PROBLEM_6()\n"
   ]
  },
  {
   "cell_type": "markdown",
   "metadata": {
    "cell_id": "00029-1de44bc6-5f35-4df3-af9a-408291ccc867",
    "deepnote_app_coordinates": {
     "h": 5,
     "w": 12,
     "x": 0,
     "y": 174
    },
    "deepnote_cell_type": "markdown",
    "id": "4PcNxrCt-NcN"
   },
   "source": [
    "## Problem 6"
   ]
  },
  {
   "cell_type": "code",
   "execution_count": null,
   "metadata": {
    "cell_id": "00030-fdaced74-34ab-4cfc-8fa2-f3a0b012fbf2",
    "deepnote_app_coordinates": {
     "h": 5,
     "w": 12,
     "x": 0,
     "y": 180
    },
    "deepnote_cell_type": "code",
    "id": "6Brepirl-Nln",
    "ExecuteTime": {
     "start_time": "2025-03-18T15:47:03.428418300Z"
    }
   },
   "outputs": [],
   "source": []
  },
  {
   "cell_type": "markdown",
   "metadata": {
    "cell_id": "00031-032edb86-1c56-46e7-8ea3-3e011d72bf5f",
    "deepnote_app_coordinates": {
     "h": 5,
     "w": 12,
     "x": 0,
     "y": 186
    },
    "deepnote_cell_type": "markdown",
    "id": "nWuv7Q77-Nut"
   },
   "source": [
    "## Problem 7"
   ]
  },
  {
   "cell_type": "code",
   "execution_count": null,
   "metadata": {
    "cell_id": "00032-2eab2b1a-f83b-409c-a066-1642cd2ab2d8",
    "deepnote_app_coordinates": {
     "h": 5,
     "w": 12,
     "x": 0,
     "y": 192
    },
    "deepnote_cell_type": "code",
    "id": "avuvSoWY-N4Z",
    "ExecuteTime": {
     "start_time": "2025-03-18T15:47:03.429420Z"
    }
   },
   "outputs": [],
   "source": []
  }
 ],
 "metadata": {
  "colab": {
   "collapsed_sections": [],
   "include_colab_link": true,
   "name": "Assignment1.ipynb",
   "provenance": []
  },
  "deepnote": {},
  "deepnote_app_layout": "article",
  "deepnote_execution_queue": [],
  "deepnote_notebook_id": "1f038069-bae5-44e5-92ba-67bdff2c54a6",
  "kernelspec": {
   "display_name": "Python 3 (ipykernel)",
   "language": "python",
   "name": "python3"
  },
  "language_info": {
   "codemirror_mode": {
    "name": "ipython",
    "version": 3
   },
   "file_extension": ".py",
   "mimetype": "text/x-python",
   "name": "python",
   "nbconvert_exporter": "python",
   "pygments_lexer": "ipython3",
   "version": "3.9.16"
  }
 },
 "nbformat": 4,
 "nbformat_minor": 1
}
